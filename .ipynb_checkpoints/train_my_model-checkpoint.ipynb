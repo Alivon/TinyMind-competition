{
 "cells": [
  {
   "cell_type": "markdown",
   "metadata": {},
   "source": [
    "# Load the dataset."
   ]
  },
  {
   "cell_type": "code",
   "execution_count": 1,
   "metadata": {},
   "outputs": [],
   "source": [
    "import numpy as np"
   ]
  },
  {
   "cell_type": "code",
   "execution_count": 12,
   "metadata": {},
   "outputs": [],
   "source": [
    "w = np.array([[1, 2, 3], [2, 3, 4], [1, 2, 5], [5, 5, 4]])"
   ]
  },
  {
   "cell_type": "code",
   "execution_count": 13,
   "metadata": {},
   "outputs": [
    {
     "name": "stdout",
     "output_type": "stream",
     "text": [
      "[1 2 3 4 5] [2 3 2 1 1]\n",
      "[3 2]\n"
     ]
    }
   ],
   "source": [
    "(values,counts) = np.unique(w,return_counts=True)\n",
    "print(values, counts)\n",
    "top_k = np.argsort(counts)[-3:]\n",
    "print(values[top_k])"
   ]
  },
  {
   "cell_type": "code",
   "execution_count": 1,
   "metadata": {},
   "outputs": [
    {
     "name": "stdout",
     "output_type": "stream",
     "text": [
      "The shape of X_train: (36000, 96, 96, 3)\n",
      "The shape of y_train: (36000,)\n",
      "The shape of X_valid: (4000, 96, 96, 3)\n",
      "The shape of y_valid: (4000,)\n",
      "The shape of X_test: (10000, 96, 96, 3)\n"
     ]
    }
   ],
   "source": [
    "import numpy as np\n",
    "\n",
    "\n",
    "use_RGB = True\n",
    "\n",
    "X_train = np.load(open('train_data.npy', 'rb'))\n",
    "y_train = np.load(open('train_labels.npy', 'rb'))\n",
    "X_valid = np.load(open('valid_data.npy', 'rb'))\n",
    "y_valid = np.load(open('valid_labels.npy', 'rb'))\n",
    "X_test = np.load(open('test_data.npy', 'rb'))\n",
    "\n",
    "if use_RGB:\n",
    "    X_train = np.repeat(X_train, 3, axis=3)\n",
    "    X_valid = np.repeat(X_valid, 3, axis=3)\n",
    "    X_test = np.repeat(X_test, 3, axis=3)\n",
    "\n",
    "print('The shape of X_train: {}'.format(X_train.shape))\n",
    "print('The shape of y_train: {}'.format(y_train.shape))\n",
    "print('The shape of X_valid: {}'.format(X_valid.shape))\n",
    "print('The shape of y_valid: {}'.format(y_valid.shape))\n",
    "print('The shape of X_test: {}'.format(X_test.shape))"
   ]
  },
  {
   "cell_type": "markdown",
   "metadata": {},
   "source": [
    "# Obtains the mapping relationship between lables and integers."
   ]
  },
  {
   "cell_type": "code",
   "execution_count": 2,
   "metadata": {},
   "outputs": [
    {
     "name": "stdout",
     "output_type": "stream",
     "text": [
      "The number of classes: 100\n",
      "['且' '世' '东' '九' '亭' '今' '从' '令' '作' '使' '侯' '元' '光' '利' '印' '去' '受' '右'\n",
      " '司' '合' '名' '周' '命' '和' '唯' '堂' '士' '多' '夜' '奉' '女' '好' '始' '字' '孝' '守'\n",
      " '宗' '官' '定' '宜' '室' '家' '寒' '左' '常' '建' '徐' '御' '必' '思' '意' '我' '敬' '新'\n",
      " '易' '春' '更' '朝' '李' '来' '林' '正' '武' '氏' '永' '流' '海' '深' '清' '游' '父' '物'\n",
      " '玉' '用' '申' '白' '皇' '益' '福' '秋' '立' '章' '老' '臣' '良' '莫' '虎' '衣' '西' '起'\n",
      " '足' '身' '通' '遂' '重' '陵' '雨' '高' '黄' '鼎']\n"
     ]
    }
   ],
   "source": [
    "import pandas as pd\n",
    "mapping = pd.read_csv('mapping.csv')\n",
    "unique_labels = mapping.values[:, 1]\n",
    "print('The number of classes: {}'.format(unique_labels.shape[0]))\n",
    "print(unique_labels)"
   ]
  },
  {
   "cell_type": "markdown",
   "metadata": {},
   "source": [
    "# Build your model."
   ]
  },
  {
   "cell_type": "code",
   "execution_count": null,
   "metadata": {},
   "outputs": [],
   "source": [
    "from keras.applications.resnet50 import ResNet50\n",
    "from keras.layers import Flatten, Dense, BatchNormalization, Activation, Dropout\n",
    "from keras.models import Model\n",
    "def build_model_based_on_resnet50(fea_dims, out_dims):\n",
    "    \"\"\"\n",
    "    Input:\n",
    "      - fea_dims: \n",
    "      - out_dims:\n",
    "      \n",
    "    Return:\n",
    "       - model: \n",
    "    \"\"\"\n",
    "    resnet50_base_model = ResNet50(weights=None, include_top=False, input_shape=(224, 224, 1))\n",
    "    x = resnet50_base_model.get_layer('avg_pool').output\n",
    "    x = Flatten()(x)\n",
    "    x = Dense(fea_dims)(x)\n",
    "    x = BatchNormalization()(x)\n",
    "    x = Activation('relu')(x)\n",
    "    x = Dropout(0.5)(x)\n",
    "    x = Dense(out_dims)(x)\n",
    "    x = Activation('softmax')(x)\n",
    "    \n",
    "    model_input = resnet50_base_model.input\n",
    "    model_output = x \n",
    "    model = Model(inputs=model_input, outputs=model_output)\n",
    "    \n",
    "    return model"
   ]
  },
  {
   "cell_type": "code",
   "execution_count": 75,
   "metadata": {},
   "outputs": [],
   "source": [
    "from keras.applications.vgg16 import VGG16\n",
    "from keras.layers import Flatten, Dense, BatchNormalization, Activation, Dropout\n",
    "from keras.models import Model\n",
    "\n",
    "\n",
    "weights_path = None\n",
    "def build_model_based_on_vgg16(fea_dims, out_dims, weights=None):\n",
    "    \"\"\"\n",
    "    Input:\n",
    "      - fea_dims: \n",
    "      - out_dims:\n",
    "      \n",
    "    Return:\n",
    "       - model: \n",
    "    \"\"\"\n",
    "    vgg16_base_model = VGG16(weights='imagenet', include_top=False, input_shape=(96, 96, 3))\n",
    "    x = vgg16_base_model.output\n",
    "    x = Flatten()(x)\n",
    "    x = Dense(fea_dims)(x)\n",
    "    x = BatchNormalization()(x)\n",
    "    x = Activation('relu')(x)\n",
    "    x = Dropout(0.4)(x)\n",
    "    x = Dense(out_dims)(x)\n",
    "    x = Activation('softmax')(x)\n",
    "    model = Model(inputs=vgg16_base_model.input, outputs=x)\n",
    "    \n",
    "    if weights:\n",
    "        model.load_weights(weights)\n",
    "    \n",
    "    for layer in vgg16_base_model.layers:\n",
    "        layer.trainable = False\n",
    "    \n",
    "    return model"
   ]
  },
  {
   "cell_type": "code",
   "execution_count": null,
   "metadata": {},
   "outputs": [],
   "source": [
    "from keras.applications.vgg16 import VGG16\n",
    "from keras.layers import Conv2D, MaxPooling2D, Flatten, Dense, BatchNormalization, Activation, Dropout\n",
    "from keras.models import Model, Input\n",
    "def BN_ReLU(x):\n",
    "    x = BatchNormalization()(x)\n",
    "    x = Activation('relu')(x)\n",
    "    return x\n",
    "def build_my_model(out_dims, input_shape=(96, 96, 3), weights=None):\n",
    "    \n",
    "    input_dims = Input(input_shape)\n",
    "    x = Conv2D(32, (3, 3), strides=(1, 1), padding='same')(input_dims)\n",
    "    x = BN_ReLU(x)\n",
    "    x = Conv2D(32, (3, 3), strides=(1, 1), padding='same')(x)\n",
    "    x = BN_ReLU(x)\n",
    "    x = MaxPooling2D(pool_size=(2, 2), strides=(2, 2))(x)\n",
    "\n",
    "    x = Conv2D(64, (3, 3), strides=(1, 1), padding='same')(x)\n",
    "    x = BN_ReLU(x)\n",
    "    x = Conv2D(64, (3, 3), strides=(1, 1), padding='same')(x)\n",
    "    x = BN_ReLU(x)\n",
    "    x = MaxPooling2D(pool_size=(2, 2), strides=(2, 2))(x)\n",
    "\n",
    "    x = Conv2D(128, (3, 3), strides=(1, 1), padding='same')(x)\n",
    "    x = BN_ReLU(x)\n",
    "    x = Conv2D(128, (3, 3), strides=(1, 1), padding='same')(x)\n",
    "    x = BN_ReLU(x)\n",
    "    x = MaxPooling2D(pool_size=(2, 2), strides=(2, 2))(x)\n",
    "\n",
    "    x = Flatten()(x)\n",
    "    x = Dense(4096)(x)\n",
    "    x = BN_ReLU(x)\n",
    "    x = Dropout(0.5)(x)\n",
    "    x = Dense(out_dims)(x)\n",
    "    x = Activation('softmax')(x)\n",
    "    \n",
    "    model = Model(inputs=input_dims, outputs=x)\n",
    "    \n",
    "    if weights:\n",
    "        model.load_weights(weights)\n",
    "        \n",
    "    return model"
   ]
  },
  {
   "cell_type": "code",
   "execution_count": 82,
   "metadata": {},
   "outputs": [
    {
     "name": "stdout",
     "output_type": "stream",
     "text": [
      "input_1\n",
      "block1_conv1\n",
      "block1_conv2\n",
      "block1_pool\n",
      "block2_conv1\n",
      "block2_conv2\n",
      "block2_pool\n",
      "block3_conv1\n",
      "block3_conv2\n",
      "block3_conv3\n",
      "block3_pool\n",
      "block4_conv1\n",
      "block4_conv2\n",
      "block4_conv3\n",
      "block4_pool\n",
      "block5_conv1\n",
      "block5_conv2\n",
      "block5_conv3\n",
      "block5_pool\n",
      "flatten_1\n",
      "dense_1\n",
      "batch_normalization_1\n",
      "activation_1\n",
      "dropout_1\n",
      "dense_2\n",
      "activation_2\n"
     ]
    }
   ],
   "source": [
    "# clear gpu memory\n",
    "from keras import backend\n",
    "backend.clear_session()\n",
    "\n",
    "# 3 * 3 * 512\n",
    "model = build_model_based_on_vgg16(1024, 100, weights=weights_path)\n",
    "for layer in model.layers:\n",
    "    print(layer.name)"
   ]
  },
  {
   "cell_type": "code",
   "execution_count": 77,
   "metadata": {},
   "outputs": [
    {
     "name": "stdout",
     "output_type": "stream",
     "text": [
      "Train on 36000 samples, validate on 4000 samples\n",
      "Epoch 1/40\n",
      "36000/36000 [==============================] - 70s 2ms/step - loss: 2.4129 - acc: 0.4350 - val_loss: 1.7462 - val_acc: 0.5683\n",
      "Epoch 2/40\n",
      "36000/36000 [==============================] - 69s 2ms/step - loss: 1.2594 - acc: 0.6664 - val_loss: 1.3696 - val_acc: 0.6492\n",
      "Epoch 3/40\n",
      "36000/36000 [==============================] - 69s 2ms/step - loss: 0.9094 - acc: 0.7482 - val_loss: 1.2565 - val_acc: 0.6833\n",
      "Epoch 4/40\n",
      "36000/36000 [==============================] - 69s 2ms/step - loss: 0.7115 - acc: 0.7977 - val_loss: 1.2114 - val_acc: 0.7087\n",
      "Epoch 5/40\n",
      "36000/36000 [==============================] - 69s 2ms/step - loss: 0.5731 - acc: 0.8329 - val_loss: 1.2457 - val_acc: 0.7097\n",
      "Epoch 6/40\n",
      "36000/36000 [==============================] - 70s 2ms/step - loss: 0.4935 - acc: 0.8523 - val_loss: 1.2867 - val_acc: 0.7185\n",
      "Epoch 7/40\n",
      "36000/36000 [==============================] - 69s 2ms/step - loss: 0.4381 - acc: 0.8677 - val_loss: 1.3555 - val_acc: 0.7212\n",
      "Epoch 8/40\n",
      "36000/36000 [==============================] - 69s 2ms/step - loss: 0.3879 - acc: 0.8819 - val_loss: 1.2111 - val_acc: 0.7432\n",
      "Epoch 9/40\n",
      "36000/36000 [==============================] - 69s 2ms/step - loss: 0.3284 - acc: 0.8986 - val_loss: 1.2851 - val_acc: 0.7405\n",
      "Epoch 10/40\n",
      "36000/36000 [==============================] - 69s 2ms/step - loss: 0.3044 - acc: 0.9062 - val_loss: 1.2041 - val_acc: 0.7548\n",
      "Epoch 11/40\n",
      "36000/36000 [==============================] - 69s 2ms/step - loss: 0.2903 - acc: 0.9114 - val_loss: 1.2339 - val_acc: 0.7462\n",
      "Epoch 12/40\n",
      "36000/36000 [==============================] - 69s 2ms/step - loss: 0.2745 - acc: 0.9159 - val_loss: 1.4127 - val_acc: 0.7400\n",
      "Epoch 13/40\n",
      "36000/36000 [==============================] - 69s 2ms/step - loss: 0.2801 - acc: 0.9143 - val_loss: 1.3686 - val_acc: 0.7420\n",
      "Epoch 14/40\n",
      "36000/36000 [==============================] - 69s 2ms/step - loss: 0.2701 - acc: 0.9176 - val_loss: 1.3522 - val_acc: 0.7545\n",
      "Epoch 15/40\n",
      "36000/36000 [==============================] - 5885s 163ms/step - loss: 0.2558 - acc: 0.9228 - val_loss: 1.4417 - val_acc: 0.7492\n",
      "Epoch 16/40\n",
      "36000/36000 [==============================] - 70s 2ms/step - loss: 0.2611 - acc: 0.9216 - val_loss: 1.3807 - val_acc: 0.7492\n",
      "Epoch 17/40\n",
      "36000/36000 [==============================] - 71s 2ms/step - loss: 0.2328 - acc: 0.9297 - val_loss: 1.3848 - val_acc: 0.7580\n",
      "Epoch 18/40\n",
      "36000/36000 [==============================] - 70s 2ms/step - loss: 0.2097 - acc: 0.9359 - val_loss: 1.3410 - val_acc: 0.7692\n",
      "Epoch 19/40\n",
      "36000/36000 [==============================] - 74s 2ms/step - loss: 0.2050 - acc: 0.9379 - val_loss: 1.3920 - val_acc: 0.7670\n",
      "Epoch 20/40\n",
      "36000/36000 [==============================] - 76s 2ms/step - loss: 0.2106 - acc: 0.9365 - val_loss: 1.4454 - val_acc: 0.7592\n",
      "Epoch 21/40\n",
      "36000/36000 [==============================] - 77s 2ms/step - loss: 0.2015 - acc: 0.9399 - val_loss: 1.5221 - val_acc: 0.7545\n",
      "Epoch 22/40\n",
      "36000/36000 [==============================] - 78s 2ms/step - loss: 0.2060 - acc: 0.9395 - val_loss: 1.3164 - val_acc: 0.7802\n",
      "Epoch 23/40\n",
      "36000/36000 [==============================] - 69s 2ms/step - loss: 0.2102 - acc: 0.9383 - val_loss: 1.5286 - val_acc: 0.7620\n",
      "Epoch 24/40\n",
      "36000/36000 [==============================] - 68s 2ms/step - loss: 0.2076 - acc: 0.9394 - val_loss: 1.4296 - val_acc: 0.7728\n",
      "Epoch 25/40\n",
      "36000/36000 [==============================] - 68s 2ms/step - loss: 0.1878 - acc: 0.9441 - val_loss: 1.4401 - val_acc: 0.7788\n",
      "Epoch 26/40\n",
      "36000/36000 [==============================] - 68s 2ms/step - loss: 0.1784 - acc: 0.9478 - val_loss: 1.4310 - val_acc: 0.7735\n",
      "Epoch 27/40\n",
      "36000/36000 [==============================] - 68s 2ms/step - loss: 0.1761 - acc: 0.9485 - val_loss: 1.4395 - val_acc: 0.7710\n",
      "Epoch 28/40\n",
      "36000/36000 [==============================] - 69s 2ms/step - loss: 0.1822 - acc: 0.9480 - val_loss: 1.5117 - val_acc: 0.7775\n",
      "Epoch 29/40\n",
      "36000/36000 [==============================] - 69s 2ms/step - loss: 0.1799 - acc: 0.9471 - val_loss: 1.5566 - val_acc: 0.7675\n",
      "Epoch 30/40\n",
      "36000/36000 [==============================] - 69s 2ms/step - loss: 0.1790 - acc: 0.9486 - val_loss: 1.4923 - val_acc: 0.7725\n",
      "Epoch 31/40\n",
      "36000/36000 [==============================] - 74s 2ms/step - loss: 0.1701 - acc: 0.9510 - val_loss: 1.5396 - val_acc: 0.7738\n",
      "Epoch 32/40\n",
      "36000/36000 [==============================] - 76s 2ms/step - loss: 0.1638 - acc: 0.9532 - val_loss: 1.6232 - val_acc: 0.7720\n",
      "Epoch 33/40\n",
      "36000/36000 [==============================] - 76s 2ms/step - loss: 0.1646 - acc: 0.9536 - val_loss: 1.5794 - val_acc: 0.7790\n",
      "Epoch 34/40\n",
      "36000/36000 [==============================] - 74s 2ms/step - loss: 0.1702 - acc: 0.9533 - val_loss: 1.5562 - val_acc: 0.7720\n",
      "Epoch 35/40\n",
      "36000/36000 [==============================] - 75s 2ms/step - loss: 0.1588 - acc: 0.9561 - val_loss: 1.5717 - val_acc: 0.7730\n",
      "Epoch 36/40\n",
      "36000/36000 [==============================] - 76s 2ms/step - loss: 0.1681 - acc: 0.9541 - val_loss: 1.6725 - val_acc: 0.7622\n",
      "Epoch 37/40\n",
      "36000/36000 [==============================] - 75s 2ms/step - loss: 0.1644 - acc: 0.9541 - val_loss: 1.5869 - val_acc: 0.7830\n",
      "Epoch 38/40\n",
      "36000/36000 [==============================] - 70s 2ms/step - loss: 0.1726 - acc: 0.9544 - val_loss: 1.6426 - val_acc: 0.7812\n",
      "Epoch 39/40\n",
      "36000/36000 [==============================] - 72s 2ms/step - loss: 0.1564 - acc: 0.9568 - val_loss: 1.6152 - val_acc: 0.7840\n",
      "Epoch 40/40\n",
      "36000/36000 [==============================] - 72s 2ms/step - loss: 0.1593 - acc: 0.9564 - val_loss: 1.5919 - val_acc: 0.7790\n"
     ]
    }
   ],
   "source": [
    "from keras.optimizers import *\n",
    "from keras.utils.np_utils import to_categorical\n",
    "from keras.callbacks import LearningRateScheduler, ModelCheckpoint\n",
    "\n",
    "weights_path = 'my_model_based_on_vgg16_weights.hdf5'\n",
    "mdcheck = ModelCheckpoint(filepath=weights_path, \n",
    "                          monitor='val_acc', save_best_only=True)\n",
    "callbacks = [mdcheck]\n",
    "\n",
    "learning_rate = 0.01\n",
    "batch_size = 128 \n",
    "\n",
    "#sgd = SGD(lr=0.01, momentum=0.0, decay=0.0, nesterov=False)\n",
    "adam = Adam(lr=learning_rate, beta_1=0.9, beta_2=0.999, epsilon=None, decay=0.0, amsgrad=False)\n",
    "model.compile(loss='categorical_crossentropy', optimizer=adam, metrics=['accuracy'])\n",
    "\n",
    "history = model.fit(X_train, to_categorical(y_train, num_classes=100), epochs=40, batch_size=batch_size, \n",
    "                    validation_data=(X_valid, to_categorical(y_valid, num_classes=100)), callbacks=callbacks)\n",
    "\n",
    "history.history['learning_rate'] = learning_rate\n",
    "history.history['batch_size'] = batch_size\n",
    "# model.save_weights('my_model_based_on_vgg16_weights.hdf5')"
   ]
  },
  {
   "cell_type": "code",
   "execution_count": 88,
   "metadata": {},
   "outputs": [
    {
     "data": {
      "image/png": "[encoded data removed]",
      "text/plain": [
       "<matplotlib.figure.Figure at 0x24ce9519b38>"
      ]
     },
     "metadata": {},
     "output_type": "display_data"
    },
    {
     "data": {
      "image/png": "[encoded data removed]",
      "text/plain": [
       "<matplotlib.figure.Figure at 0x24d7865bcf8>"
      ]
     },
     "metadata": {},
     "output_type": "display_data"
    }
   ],
   "source": [
    "def draw_plot(history, savefig_path=None):\n",
    "    import matplotlib.pyplot as plt\n",
    "    %matplotlib inline\n",
    "    loss = history.history['loss']\n",
    "    acc = history.history['acc']\n",
    "    val_loss = history.history['val_loss']\n",
    "    val_acc = history.history['val_acc']\n",
    "    x = np.arange(1, len(loss) + 1, 1)\n",
    "    learning_rate = history.history['learning_rate']\n",
    "    batch_size = history.history['batch_size']\n",
    "    \n",
    "    plt.figure(figsize=(10, 6))\n",
    "    plt.title('{}, learning rate={}, batch size = {}'.format('loss', learning_rate, batch_size))\n",
    "    plt.plot(x, loss, 'g-', label='loss')\n",
    "    plt.plot(x, val_loss, 'y-', label='val_loss')\n",
    "    plt.legend()\n",
    "    plt.xlabel('epochs')\n",
    "    plt.ylabel('loss')\n",
    "    plt.show()\n",
    "    if savefig_path is not None:\n",
    "        plt.savefig(savefig_path + 'loss.png', format='png', dpi=300)\n",
    "\n",
    "    plt.figure(figsize=(10, 6))\n",
    "    plt.title('{}, learninng rate={}, batch_size={}'.format('accuracy', learning_rate, batch_size))\n",
    "    plt.plot(x, val_acc, 'y-', label='val_acc')\n",
    "    plt.plot(x, acc, 'b-', label='acc')\n",
    "    plt.legend()\n",
    "    plt.xlabel('epochs')\n",
    "    plt.ylabel('acc')\n",
    "    plt.show()\n",
    "    if savefig_path is not None:\n",
    "        plt.savefig(savefig_path + 'acc.png', format='png', dpi=300)\n",
    "\n",
    "draw_plot(history)"
   ]
  },
  {
   "cell_type": "code",
   "execution_count": 83,
   "metadata": {},
   "outputs": [],
   "source": [
    "# freeze layers\n",
    "for layer in model.layers[:15]:\n",
    "    layer.trainable = False\n",
    "    \n",
    "for layer in model.layers[15:]:\n",
    "    layer.trainable = True"
   ]
  },
  {
   "cell_type": "code",
   "execution_count": 84,
   "metadata": {},
   "outputs": [
    {
     "name": "stdout",
     "output_type": "stream",
     "text": [
      "Train on 36000 samples, validate on 4000 samples\n",
      "Epoch 1/40\n",
      "36000/36000 [==============================] - 79s 2ms/step - loss: 3.8977 - acc: 0.2941 - val_loss: 10.7831 - val_acc: 0.1757\n",
      "Epoch 2/40\n",
      "36000/36000 [==============================] - 82s 2ms/step - loss: 1.3241 - acc: 0.6705 - val_loss: 2.6857 - val_acc: 0.5483\n",
      "Epoch 3/40\n",
      "36000/36000 [==============================] - 79s 2ms/step - loss: 0.8784 - acc: 0.7711 - val_loss: 1.2805 - val_acc: 0.7422\n",
      "Epoch 4/40\n",
      "36000/36000 [==============================] - 79s 2ms/step - loss: 0.6800 - acc: 0.8176 - val_loss: 0.9682 - val_acc: 0.8065\n",
      "Epoch 5/40\n",
      "36000/36000 [==============================] - 79s 2ms/step - loss: 0.5452 - acc: 0.8508 - val_loss: 1.1052 - val_acc: 0.7778\n",
      "Epoch 6/40\n",
      "36000/36000 [==============================] - 79s 2ms/step - loss: 0.4565 - acc: 0.8740 - val_loss: 0.8750 - val_acc: 0.8233\n",
      "Epoch 7/40\n",
      "36000/36000 [==============================] - 84s 2ms/step - loss: 0.4025 - acc: 0.8860 - val_loss: 0.7601 - val_acc: 0.8420\n",
      "Epoch 8/40\n",
      "36000/36000 [==============================] - 80s 2ms/step - loss: 0.3378 - acc: 0.9025 - val_loss: 0.6978 - val_acc: 0.8485\n",
      "Epoch 9/40\n",
      "36000/36000 [==============================] - 87s 2ms/step - loss: 0.3123 - acc: 0.9096 - val_loss: 0.6653 - val_acc: 0.8635\n",
      "Epoch 10/40\n",
      "36000/36000 [==============================] - 88s 2ms/step - loss: 0.2800 - acc: 0.9201 - val_loss: 0.7951 - val_acc: 0.8508\n",
      "Epoch 11/40\n",
      "36000/36000 [==============================] - 87s 2ms/step - loss: 0.2535 - acc: 0.9251 - val_loss: 0.7708 - val_acc: 0.8492\n",
      "Epoch 12/40\n",
      "36000/36000 [==============================] - 86s 2ms/step - loss: 0.2303 - acc: 0.9334 - val_loss: 0.7365 - val_acc: 0.8650\n",
      "Epoch 13/40\n",
      "36000/36000 [==============================] - 87s 2ms/step - loss: 0.2091 - acc: 0.9386 - val_loss: 0.8153 - val_acc: 0.8608\n",
      "Epoch 14/40\n",
      "36000/36000 [==============================] - 88s 2ms/step - loss: 0.2025 - acc: 0.9411 - val_loss: 0.7790 - val_acc: 0.8700\n",
      "Epoch 15/40\n",
      "36000/36000 [==============================] - 80s 2ms/step - loss: 0.1956 - acc: 0.9433 - val_loss: 0.8063 - val_acc: 0.8675\n",
      "Epoch 16/40\n",
      "36000/36000 [==============================] - 81s 2ms/step - loss: 0.1881 - acc: 0.9463 - val_loss: 0.7327 - val_acc: 0.8722\n",
      "Epoch 17/40\n",
      "36000/36000 [==============================] - 81s 2ms/step - loss: 0.1659 - acc: 0.9520 - val_loss: 0.7593 - val_acc: 0.8728\n",
      "Epoch 18/40\n",
      "36000/36000 [==============================] - 81s 2ms/step - loss: 0.1715 - acc: 0.9512 - val_loss: 0.6815 - val_acc: 0.8952\n",
      "Epoch 19/40\n",
      "36000/36000 [==============================] - 81s 2ms/step - loss: 0.1552 - acc: 0.9555 - val_loss: 0.6628 - val_acc: 0.8902\n",
      "Epoch 20/40\n",
      "36000/36000 [==============================] - 81s 2ms/step - loss: 0.1518 - acc: 0.9577 - val_loss: 0.7365 - val_acc: 0.8888\n",
      "Epoch 21/40\n",
      "36000/36000 [==============================] - 81s 2ms/step - loss: 0.1563 - acc: 0.9561 - val_loss: 0.9164 - val_acc: 0.8698\n",
      "Epoch 22/40\n",
      "36000/36000 [==============================] - 80s 2ms/step - loss: 0.1352 - acc: 0.9616 - val_loss: 0.6964 - val_acc: 0.8918\n",
      "Epoch 23/40\n",
      "36000/36000 [==============================] - 81s 2ms/step - loss: 0.1346 - acc: 0.9636 - val_loss: 0.7144 - val_acc: 0.8958\n",
      "Epoch 24/40\n",
      "36000/36000 [==============================] - 81s 2ms/step - loss: 0.1427 - acc: 0.9614 - val_loss: 0.7794 - val_acc: 0.8855\n",
      "Epoch 25/40\n",
      "36000/36000 [==============================] - 88s 2ms/step - loss: 0.1272 - acc: 0.9645 - val_loss: 0.7642 - val_acc: 0.8910\n",
      "Epoch 26/40\n",
      "36000/36000 [==============================] - 90s 3ms/step - loss: 0.1169 - acc: 0.9681 - val_loss: 0.9143 - val_acc: 0.8775\n",
      "Epoch 27/40\n",
      "36000/36000 [==============================] - 89s 2ms/step - loss: 0.1245 - acc: 0.9670 - val_loss: 0.8765 - val_acc: 0.8895\n",
      "Epoch 28/40\n",
      "36000/36000 [==============================] - 91s 3ms/step - loss: 0.1061 - acc: 0.9716 - val_loss: 0.8411 - val_acc: 0.8878\n",
      "Epoch 29/40\n",
      "36000/36000 [==============================] - 91s 3ms/step - loss: 0.1156 - acc: 0.9691 - val_loss: 0.8465 - val_acc: 0.8912\n",
      "Epoch 30/40\n",
      "36000/36000 [==============================] - 92s 3ms/step - loss: 0.1240 - acc: 0.9681 - val_loss: 0.7301 - val_acc: 0.8930\n",
      "Epoch 31/40\n",
      "36000/36000 [==============================] - 92s 3ms/step - loss: 0.1093 - acc: 0.9713 - val_loss: 0.7404 - val_acc: 0.8930\n",
      "Epoch 32/40\n",
      "36000/36000 [==============================] - 90s 2ms/step - loss: 0.1157 - acc: 0.9713 - val_loss: 0.8089 - val_acc: 0.8890\n",
      "Epoch 33/40\n",
      "36000/36000 [==============================] - 87s 2ms/step - loss: 0.1221 - acc: 0.9694 - val_loss: 0.8051 - val_acc: 0.8905\n",
      "Epoch 34/40\n",
      "36000/36000 [==============================] - 91s 3ms/step - loss: 0.1088 - acc: 0.9729 - val_loss: 0.7238 - val_acc: 0.9032\n",
      "Epoch 35/40\n",
      "36000/36000 [==============================] - 89s 2ms/step - loss: 0.0899 - acc: 0.9769 - val_loss: 0.7539 - val_acc: 0.8988\n",
      "Epoch 36/40\n",
      "36000/36000 [==============================] - 88s 2ms/step - loss: 0.1055 - acc: 0.9742 - val_loss: 0.7574 - val_acc: 0.8975\n",
      "Epoch 37/40\n",
      "36000/36000 [==============================] - 89s 2ms/step - loss: 0.1050 - acc: 0.9732 - val_loss: 0.7963 - val_acc: 0.8965\n",
      "Epoch 38/40\n",
      "36000/36000 [==============================] - 91s 3ms/step - loss: 0.0922 - acc: 0.9768 - val_loss: 0.7516 - val_acc: 0.9048\n",
      "Epoch 39/40\n",
      "36000/36000 [==============================] - 80s 2ms/step - loss: 0.0958 - acc: 0.9765 - val_loss: 0.9106 - val_acc: 0.8902\n",
      "Epoch 40/40\n",
      "36000/36000 [==============================] - 80s 2ms/step - loss: 0.0928 - acc: 0.9774 - val_loss: 0.8968 - val_acc: 0.8915\n"
     ]
    }
   ],
   "source": [
    "from keras.optimizers import *\n",
    "from keras.utils.np_utils import to_categorical\n",
    "from keras.callbacks import LearningRateScheduler, ModelCheckpoint\n",
    "\n",
    "weights_path = 'my_model_based_on_vgg16_weights.hdf5'\n",
    "mdcheck = ModelCheckpoint(filepath=weights_path, \n",
    "                          monitor='val_acc', save_best_only=True)\n",
    "callbacks = [mdcheck]\n",
    "\n",
    "learning_rate = 0.01\n",
    "decay = 0.01\n",
    "batch_size = 128 \n",
    "\n",
    "#sgd = SGD(lr=0.01, momentum=0.0, decay=0.0, nesterov=False)\n",
    "adam = Adam(lr=learning_rate, beta_1=0.9, beta_2=0.999, epsilon=None, decay=0.0, amsgrad=False)\n",
    "model.compile(loss='categorical_crossentropy', optimizer=adam, metrics=['accuracy'])\n",
    "\n",
    "history = model.fit(X_train, to_categorical(y_train, num_classes=100), epochs=40, batch_size=batch_size, \n",
    "                    validation_data=(X_valid, to_categorical(y_valid, num_classes=100)), callbacks=callbacks)\n",
    "\n",
    "history.history['learning_rate'] = learning_rate\n",
    "history.history['decay'] = decay\n",
    "history.history['batch_size'] = batch_size\n",
    "# model.save_weights('my_model_based_on_vgg16_weights.hdf5')"
   ]
  },
  {
   "cell_type": "markdown",
   "metadata": {},
   "source": [
    "# Test top-5 accuracy of the valiation with our model."
   ]
  },
  {
   "cell_type": "code",
   "execution_count": 85,
   "metadata": {},
   "outputs": [
    {
     "name": "stdout",
     "output_type": "stream",
     "text": [
      "Validation accuracy: 96.88%\n"
     ]
    }
   ],
   "source": [
    "prediction = model.predict(X_valid)\n",
    "top_five = np.argsort(prediction, axis=1)[:, -5:]\n",
    "correct_number = 0\n",
    "total_number = 0\n",
    "for (five, correct_class) in zip(top_five, y_valid):\n",
    "    if correct_class in five:\n",
    "        correct_number += 1\n",
    "    total_number += 1\n",
    "print('Validation accuracy: {:.2%}'.format(correct_number / total_number))"
   ]
  },
  {
   "cell_type": "markdown",
   "metadata": {},
   "source": [
    "# Test our test set."
   ]
  },
  {
   "cell_type": "code",
   "execution_count": 86,
   "metadata": {},
   "outputs": [],
   "source": [
    "from pythons import dataset\n",
    "\n",
    "test_path, _ = dataset.get_paths_and_labels_from_directory('test/')\n",
    "\n",
    "filename = []\n",
    "for path in test_path:\n",
    "    filename.append(path[path.rfind('\\\\')+1:])\n",
    "\n",
    "prediction = model.predict(X_test)\n",
    "top_five = np.argsort(prediction, axis=1)[:, -5:]\n",
    "answer = unique_labels[top_five]"
   ]
  },
  {
   "cell_type": "code",
   "execution_count": 87,
   "metadata": {},
   "outputs": [],
   "source": [
    "import csv\n",
    "data = []\n",
    "data.append(['filename', 'label'])\n",
    "for name, label in zip(filename, answer):\n",
    "    label = list(label)\n",
    "    label.reverse()\n",
    "    # label = label[::-1]\n",
    "    data.append([name, ''.join(label)])\n",
    "with open('results.csv', 'w', newline='',encoding='utf-8-sig') as f:\n",
    "    w = csv.writer(f)\n",
    "    w.writerows(data)"
   ]
  }
 ],
 "metadata": {
  "kernelspec": {
   "display_name": "Python 3",
   "language": "python",
   "name": "python3"
  },
  "language_info": {
   "codemirror_mode": {
    "name": "ipython",
    "version": 3
   },
   "file_extension": ".py",
   "mimetype": "text/x-python",
   "name": "python",
   "nbconvert_exporter": "python",
   "pygments_lexer": "ipython3",
   "version": "3.6.4"
  }
 },
 "nbformat": 4,
 "nbformat_minor": 1
}
