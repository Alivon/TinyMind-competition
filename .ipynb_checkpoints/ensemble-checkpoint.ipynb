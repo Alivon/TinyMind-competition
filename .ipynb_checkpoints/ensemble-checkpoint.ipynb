{
 "cells": [
  {
   "cell_type": "code",
   "execution_count": 1,
   "metadata": {},
   "outputs": [
    {
     "name": "stderr",
     "output_type": "stream",
     "text": [
      "Using TensorFlow backend.\n"
     ]
    }
   ],
   "source": [
    "from recognition import evaluate_model as em\n",
    "from recognition import csv_utils as cu\n"
   ]
  },
  {
   "cell_type": "markdown",
   "metadata": {},
   "source": [
    "# 获取类到索引的字典"
   ]
  },
  {
   "cell_type": "code",
   "execution_count": 2,
   "metadata": {},
   "outputs": [
    {
     "name": "stdout",
     "output_type": "stream",
     "text": [
      "{'且': 0, '世': 1, '东': 2, '九': 3, '亭': 4, '今': 5, '从': 6, '令': 7, '作': 8, '使': 9, '侯': 10, '元': 11, '光': 12, '利': 13, '印': 14, '去': 15, '受': 16, '右': 17, '司': 18, '合': 19, '名': 20, '周': 21, '命': 22, '和': 23, '唯': 24, '堂': 25, '士': 26, '多': 27, '夜': 28, '奉': 29, '女': 30, '好': 31, '始': 32, '字': 33, '孝': 34, '守': 35, '宗': 36, '官': 37, '定': 38, '宜': 39, '室': 40, '家': 41, '寒': 42, '左': 43, '常': 44, '建': 45, '徐': 46, '御': 47, '必': 48, '思': 49, '意': 50, '我': 51, '敬': 52, '新': 53, '易': 54, '春': 55, '更': 56, '朝': 57, '李': 58, '来': 59, '林': 60, '正': 61, '武': 62, '氏': 63, '永': 64, '流': 65, '海': 66, '深': 67, '清': 68, '游': 69, '父': 70, '物': 71, '玉': 72, '用': 73, '申': 74, '白': 75, '皇': 76, '益': 77, '福': 78, '秋': 79, '立': 80, '章': 81, '老': 82, '臣': 83, '良': 84, '莫': 85, '虎': 86, '衣': 87, '西': 88, '起': 89, '足': 90, '身': 91, '通': 92, '遂': 93, '重': 94, '陵': 95, '雨': 96, '高': 97, '黄': 98, '鼎': 99}\n"
     ]
    }
   ],
   "source": [
    "class_indices = cu.get_class_indices('class_indices.csv')\n",
    "print(class_indices)"
   ]
  },
  {
   "cell_type": "markdown",
   "metadata": {},
   "source": [
    "# 获取模型的信息"
   ]
  },
  {
   "cell_type": "code",
   "execution_count": 3,
   "metadata": {},
   "outputs": [],
   "source": [
    "models_list = [\n",
    "    'models/VGG16/model',\n",
    "    'models/ResNet50/model'\n",
    "]"
   ]
  },
  {
   "cell_type": "markdown",
   "metadata": {},
   "source": [
    "# 评估网络在验证集上的性能"
   ]
  },
  {
   "cell_type": "markdown",
   "metadata": {},
   "source": [
    "### 获取所有模型对应的数据生成器"
   ]
  },
  {
   "cell_type": "code",
   "execution_count": 4,
   "metadata": {},
   "outputs": [
    {
     "name": "stdout",
     "output_type": "stream",
     "text": [
      "Obtaining the generator of the model 'models/VGG16/model', the model's information are as follows: \n",
      "{'batch_size': '128', 'color_mode': 'grayscale', 'image_size': '96', 'rescale': '1./255', 'algorithm': 'ke_aug', 'horizontal_flip': 'False', 'vertical_flip': 'False', 'width_shift_range': '0.1', 'height_shift_range': '0.1', 'rotation_range': '10', 'shear_range': '10.0', 'zoom_range': '0.1', 'channel_shift_range': '0.0', 'shuffle': 'False', 'augment_size': '6'}\n",
      "Found 4000 images belonging to 100 classes.\n",
      "Obtaining the generator of the model 'models/ResNet50/model', the model's information are as follows: \n",
      "{'batch_size': '32', 'color_mode': 'grayscale', 'image_size': '224', 'rescale': '1./255', 'algorithm': 'ke_aug', 'horizontal_flip': 'False', 'vertical_flip': 'False', 'width_shift_range': '0.1', 'height_shift_range': '0.1', 'rotation_range': '10', 'shear_range': '10.0', 'zoom_range': '0.1', 'channel_shift_range': '0.0', 'shuffle': 'False', 'augment_size': '6'}\n",
      "Found 4000 images belonging to 100 classes.\n",
      "All the generators have been obtained!\n",
      "Using model 'models/VGG16/model' to predict...\n",
      "Using model 'models/ResNet50/model' to predict...\n",
      "Get all the generators and predictions for models' parameters!\n"
     ]
    }
   ],
   "source": [
    "valid_generators, valid_predictions = em.get_generators_and_predictions_for_models_list(models_list, \n",
    "                                                                                        'datasets/validation',\n",
    "                                                                                        batch_process=256,\n",
    "                                                                                        num_classes=100)"
   ]
  },
  {
   "cell_type": "markdown",
   "metadata": {},
   "source": [
    "### 检查所有模型在验证集上的性能"
   ]
  },
  {
   "cell_type": "code",
   "execution_count": 5,
   "metadata": {},
   "outputs": [
    {
     "name": "stdout",
     "output_type": "stream",
     "text": [
      "Validation accuracy for each model:\n",
      "models/VGG16/model\n",
      "Top-1 accuracy: 83.67%\n",
      "Top-5 accuracy: 94.42%\n",
      "models/ResNet50/model\n",
      "Top-1 accuracy: 86.65%\n",
      "Top-5 accuracy: 96.25%\n"
     ]
    }
   ],
   "source": [
    "print('Validation accuracy for each model:')\n",
    "for model_info, generator, prediction in zip(models_list, valid_generators, valid_predictions):\n",
    "    print(model_info)\n",
    "    for k in {1, 5}:\n",
    "        _, _, _, _, _ = em.evaluate_topk_accuracy_by_single_generator(generator, \n",
    "                                                                      class_indices,\n",
    "                                                                      prediction,\n",
    "                                                                      k=k)"
   ]
  },
  {
   "cell_type": "markdown",
   "metadata": {},
   "source": [
    "### 评估模型集成后的性能"
   ]
  },
  {
   "cell_type": "code",
   "execution_count": 6,
   "metadata": {},
   "outputs": [
    {
     "name": "stdout",
     "output_type": "stream",
     "text": [
      "Validation accuracy with model ensemble: \n",
      "Top-1 accuracy: 88.98%\n",
      "Top-5 accuracy: 96.43%\n"
     ]
    }
   ],
   "source": [
    "print('Validation accuracy with model ensemble: ')\n",
    "for k in {1, 5}:\n",
    "    _, ensemble_topk_indices = em.predictions_ensemble(valid_generators, \n",
    "                                                       valid_predictions, \n",
    "                                                       algorithm='mean', \n",
    "                                                       k=k)\n",
    "    _, _, _, _, _ = em.evaluate_topk_accuracy_by_single_generator(valid_generators[0], \n",
    "                                                                  class_indices,\n",
    "                                                                  topk_indices=ensemble_topk_indices,\n",
    "                                                                  k=k)"
   ]
  },
  {
   "cell_type": "markdown",
   "metadata": {},
   "source": [
    "# 获取在测试集上模型集成后的结果"
   ]
  },
  {
   "cell_type": "markdown",
   "metadata": {},
   "source": [
    "### 获取所有模型的生成器和预测值\n",
    "- 如果你没有备份所有模型的预测值，你可以运行函数 `get_generators_and_predictions_for_models_list` 来获取模型对应的生成器和预测值，在这之后，你可以使用函数 `save_predictions_for_models_list` 来保存预测值\n",
    "- 如果你已经备份了所有模型的预测值，你应该运行函数`get_generators_for_models_list` 和 `get_predictions_from_backup_for_models_list`"
   ]
  },
  {
   "cell_type": "code",
   "execution_count": 7,
   "metadata": {},
   "outputs": [
    {
     "name": "stdout",
     "output_type": "stream",
     "text": [
      "Obtaining the generator of the model 'models/VGG16/model', the model's information are as follows: \n",
      "{'batch_size': '128', 'color_mode': 'grayscale', 'image_size': '96', 'rescale': '1./255', 'algorithm': 'ke_aug', 'horizontal_flip': 'False', 'vertical_flip': 'False', 'width_shift_range': '0.1', 'height_shift_range': '0.1', 'rotation_range': '10', 'shear_range': '10.0', 'zoom_range': '0.1', 'channel_shift_range': '0.0', 'shuffle': 'False', 'augment_size': '6'}\n",
      "Found 4000 images belonging to 100 classes.\n",
      "Obtaining the generator of the model 'models/ResNet50/model', the model's information are as follows: \n",
      "{'batch_size': '32', 'color_mode': 'grayscale', 'image_size': '224', 'rescale': '1./255', 'algorithm': 'ke_aug', 'horizontal_flip': 'False', 'vertical_flip': 'False', 'width_shift_range': '0.1', 'height_shift_range': '0.1', 'rotation_range': '10', 'shear_range': '10.0', 'zoom_range': '0.1', 'channel_shift_range': '0.0', 'shuffle': 'False', 'augment_size': '6'}\n",
      "Found 4000 images belonging to 100 classes.\n",
      "All the generators have been obtained!\n",
      "Using model 'models/VGG16/model' to predict...\n",
      "Using model 'models/ResNet50/model' to predict...\n",
      "Get all the generators and predictions for models' parameters!\n"
     ]
    }
   ],
   "source": [
    "test_generators, test_predictions = em.get_generators_and_predictions_for_models_list(models_list, \n",
    "                                                                                      'datasets/validation',\n",
    "                                                                                      batch_process=256,\n",
    "                                                                                      num_classes=100)"
   ]
  },
  {
   "cell_type": "code",
   "execution_count": 8,
   "metadata": {},
   "outputs": [
    {
     "name": "stdout",
     "output_type": "stream",
     "text": [
      "Saving the prediction in the file 'predictions/VGG16_model.npy'\n",
      "Saving the prediction in the file 'predictions/ResNet50_model.npy'\n",
      "All the preditions have been saved!\n"
     ]
    }
   ],
   "source": [
    "em.save_predictions_for_models_list(models_list, test_predictions, 'predictions')"
   ]
  },
  {
   "cell_type": "code",
   "execution_count": 9,
   "metadata": {},
   "outputs": [
    {
     "name": "stdout",
     "output_type": "stream",
     "text": [
      "Obtaining the generator of the model 'models/VGG16/model', the model's information are as follows: \n",
      "{'batch_size': '128', 'color_mode': 'grayscale', 'image_size': '96', 'rescale': '1./255', 'algorithm': 'ke_aug', 'horizontal_flip': 'False', 'vertical_flip': 'False', 'width_shift_range': '0.1', 'height_shift_range': '0.1', 'rotation_range': '10', 'shear_range': '10.0', 'zoom_range': '0.1', 'channel_shift_range': '0.0', 'shuffle': 'False', 'augment_size': '6'}\n",
      "Found 4000 images belonging to 100 classes.\n",
      "Obtaining the generator of the model 'models/ResNet50/model', the model's information are as follows: \n",
      "{'batch_size': '32', 'color_mode': 'grayscale', 'image_size': '224', 'rescale': '1./255', 'algorithm': 'ke_aug', 'horizontal_flip': 'False', 'vertical_flip': 'False', 'width_shift_range': '0.1', 'height_shift_range': '0.1', 'rotation_range': '10', 'shear_range': '10.0', 'zoom_range': '0.1', 'channel_shift_range': '0.0', 'shuffle': 'False', 'augment_size': '6'}\n",
      "Found 4000 images belonging to 100 classes.\n",
      "All the generators have been obtained!\n",
      "Loading prediction from the file 'predictions/VGG16_model.npy'\n",
      "Loading prediction from the file 'predictions/ResNet50_model.npy'\n",
      "All the predictions have been Loaded!\n"
     ]
    }
   ],
   "source": [
    "# get all generators by models' parameters\n",
    "_, test_generators = em.get_generators_for_models_list(models_list, 'datasets/validation')\n",
    "# get all the predictions \n",
    "test_predictions = em.get_predictions_from_backup_for_models_list(models_list, 'predictions')"
   ]
  },
  {
   "cell_type": "markdown",
   "metadata": {},
   "source": [
    "### 获取top-k类别的哈希值"
   ]
  },
  {
   "cell_type": "code",
   "execution_count": 10,
   "metadata": {},
   "outputs": [],
   "source": [
    "_, ensemble_topk_indices = em.predictions_ensemble(test_generators, \n",
    "                                                   test_predictions, \n",
    "                                                   algorithm='mean', \n",
    "                                                   k=5)"
   ]
  },
  {
   "cell_type": "markdown",
   "metadata": {},
   "source": [
    "# 将预测答案写入文件"
   ]
  },
  {
   "cell_type": "code",
   "execution_count": 12,
   "metadata": {},
   "outputs": [
    {
     "name": "stdout",
     "output_type": "stream",
     "text": [
      "OK!\n"
     ]
    }
   ],
   "source": [
    "results = cu.get_topk_pd_data(test_generators[0], \n",
    "                         class_indices, \n",
    "                         topk_indices=ensemble_topk_indices)\n",
    "cu.write_pd_data_into_csv(results, \n",
    "                          'top5_results.csv', \n",
    "                          have_chinese=True, \n",
    "                          index=None, \n",
    "                          header=True)\n",
    "print('OK!')"
   ]
  },
  {
   "cell_type": "markdown",
   "metadata": {},
   "source": [
    "# 获取top-1的结果并写入文件"
   ]
  },
  {
   "cell_type": "code",
   "execution_count": 13,
   "metadata": {},
   "outputs": [
    {
     "name": "stdout",
     "output_type": "stream",
     "text": [
      "OK!\n"
     ]
    }
   ],
   "source": [
    "top1_results = cu.get_top1_pd_data_from_topk('top5_results.csv', \n",
    "                                             'top1_results.csv')\n",
    "cu.write_pd_data_into_csv(results, \n",
    "                          'top1_results.csv', \n",
    "                          have_chinese=True, \n",
    "                          index=None, \n",
    "                          header=True)\n",
    "print('OK!')"
   ]
  }
 ],
 "metadata": {
  "kernelspec": {
   "display_name": "Python 3",
   "language": "python",
   "name": "python3"
  },
  "language_info": {
   "codemirror_mode": {
    "name": "ipython",
    "version": 3
   },
   "file_extension": ".py",
   "mimetype": "text/x-python",
   "name": "python",
   "nbconvert_exporter": "python",
   "pygments_lexer": "ipython3",
   "version": "3.6.4"
  }
 },
 "nbformat": 4,
 "nbformat_minor": 1
}
