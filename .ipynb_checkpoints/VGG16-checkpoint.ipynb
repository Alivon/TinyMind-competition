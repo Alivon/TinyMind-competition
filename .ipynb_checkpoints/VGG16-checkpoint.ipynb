{
 "cells": [
  {
   "cell_type": "code",
   "execution_count": null,
   "metadata": {},
   "outputs": [],
   "source": [
    "from recognition import solver\n",
    "import matplotlib.pyplot as plt\n",
    "%matplotlib inline"
   ]
  },
  {
   "cell_type": "code",
   "execution_count": null,
   "metadata": {},
   "outputs": [],
   "source": [
    "# global variables\n",
    "BATCH_SIZE = 128 # batch size\n",
    "IMAGE_SIZE = 128 # image size\n",
    "COLOR_MODE = 'rgb' # color mode \n",
    "\n",
    "train_generator = solver.my_generator('dataset/train', \n",
    "                                       rescale=1./255,\n",
    "                                       # horizontal_flip=True, \n",
    "                                       zoom_range=0.2,\n",
    "                                       shuffle=True,\n",
    "                                       batch_size=BATCH_SIZE, \n",
    "                                       color_mode=COLOR_MODE, \n",
    "                                       target_size=(IMAGE_SIZE, IMAGE_SIZE))\n",
    "\n",
    "valid_generator = solver.my_generator('dataset/validation', \n",
    "                                       rescale=1./255,\n",
    "                                       shuffle=True,\n",
    "                                       batch_size=BATCH_SIZE, \n",
    "                                       color_mode=COLOR_MODE, \n",
    "                                       target_size=(IMAGE_SIZE, IMAGE_SIZE))\n",
    "\n",
    "print('Writing the class_indices into csv file.')\n",
    "solver.write_into_csv(train_generator.class_indices, csv_path='class_indices.csv')"
   ]
  },
  {
   "cell_type": "markdown",
   "metadata": {},
   "source": [
    "# VGG16"
   ]
  },
  {
   "cell_type": "code",
   "execution_count": null,
   "metadata": {},
   "outputs": [],
   "source": [
    "from keras.applications.vgg16 import VGG16\n",
    "from keras.layers import BatchNormalization, Activation, Input, Conv2D, MaxPooling2D, Flatten, Dense, Dropout, LeakyReLU, PReLU\n",
    "from keras.models import Model\n",
    "from keras.regularizers import l2\n",
    "\n",
    "\n",
    "def build_model_based_on_vgg16(out_dims, base_weights=None, \n",
    "                               input_shape=(224, 224, 3), weights=None):\n",
    "    \"\"\"\n",
    "    Inputs: \n",
    "      - out_dims:\n",
    "      - base_weights: The weights of the vgg16 model\n",
    "      - input_shape:\n",
    "      - weights: The weights of the model which based on vgg16\n",
    "      \n",
    "    Return:\n",
    "       - model: \n",
    "    \"\"\"\n",
    "    vgg16_base_model = VGG16(weights=base_weights, include_top=False, \n",
    "                             input_shape=input_shape)\n",
    "    x = vgg16_base_model.output\n",
    "    x = Flatten()(x)\n",
    "\n",
    "    x = Dense(2048)(x)\n",
    "    x = BatchNormalization()(x)\n",
    "    x = Activation('relu')\n",
    "    x = Dropout(0.6)(x)\n",
    "    \n",
    "    x = Dense(512)(x)\n",
    "    x = BatchNormalization()(x)\n",
    "    x = Activation('relu')\n",
    "    x = Dropout(0.6)(x)\n",
    "    \n",
    "    x = Dense(out_dims, kernel_regularizer=l2(0.01))(x)\n",
    "    x = Activation('softmax')(x)\n",
    "    model = Model(inputs=vgg16_base_model.input, outputs=x)\n",
    "    \n",
    "    if weights:\n",
    "        model.load_weights(weights)\n",
    "\n",
    "    return model\n",
    "\n",
    "solver.clear_session()\n",
    "channels = solver.get_channels(COLOR_MODE)\n",
    "model = build_model_based_on_vgg16(100, base_weights='imagenet', \n",
    "                                   input_shape=(IMAGE_SIZE, IMAGE_SIZE, channels), \n",
    "                                   weights=None)\n",
    "for index, layer in enumerate(model.layers):\n",
    "    print(index, layer.name)\n",
    "    \n",
    "print('\\n The architecture of the model:')\n",
    "model.summary()"
   ]
  },
  {
   "cell_type": "markdown",
   "metadata": {},
   "source": [
    "# Freeze some layers"
   ]
  },
  {
   "cell_type": "code",
   "execution_count": null,
   "metadata": {},
   "outputs": [],
   "source": [
    "model = solver.freeze_layers(model, index=10)\n",
    "solver.count_parameters(model) "
   ]
  },
  {
   "cell_type": "markdown",
   "metadata": {},
   "source": [
    "# Train model"
   ]
  },
  {
   "cell_type": "code",
   "execution_count": null,
   "metadata": {},
   "outputs": [],
   "source": [
    "LEARNING_RATE = 0.01 # learning rate\n",
    "DECAY = 1e-3 # decay \n",
    "EPOCHS = 50 # epochs\n",
    "\n",
    "model_path = 'models/VGG16/model.h5'\n",
    "history = solver.train_model(model, train_generator, \n",
    "                             valid_generator, \n",
    "                             model_path=model_path, \n",
    "                             batch_size=BATCH_SIZE, \n",
    "                             learning_rate = LEARNING_RATE, \n",
    "                             decay=DECAY, epochs=EPOCHS)"
   ]
  },
  {
   "cell_type": "markdown",
   "metadata": {},
   "source": [
    "# Draw history curve"
   ]
  },
  {
   "cell_type": "code",
   "execution_count": null,
   "metadata": {},
   "outputs": [],
   "source": [
    "solver.draw_plot(history)"
   ]
  },
  {
   "cell_type": "markdown",
   "metadata": {},
   "source": [
    "# Evaluate the performance of our model"
   ]
  },
  {
   "cell_type": "code",
   "execution_count": null,
   "metadata": {},
   "outputs": [],
   "source": [
    "generator = solver.my_generator('dataset/validation', \n",
    "                                rescale=1./255, \n",
    "                                shuffle=False,\n",
    "                                batch_size=BATCH_SIZE, \n",
    "                                target_size=(IMAGE_SIZE, IMAGE_SIZE), \n",
    "                                color_mode=COLOR_MODE)\n",
    "\n",
    "prediction = solver.get_prediction(model, generator)\n",
    "\n",
    "for k in [1, 5]:\n",
    "    correct_number, total_number = solver.evaluate_topk_accuracy(generator, \n",
    "                                                                 prediction=prediction, \n",
    "                                                                 k=k)"
   ]
  },
  {
   "cell_type": "markdown",
   "metadata": {},
   "source": [
    "# Only use this model to predict"
   ]
  },
  {
   "cell_type": "code",
   "execution_count": null,
   "metadata": {},
   "outputs": [],
   "source": [
    "class_indices = solver.get_class_indices('class_indices.csv')\n",
    "print(class_indices)"
   ]
  },
  {
   "cell_type": "code",
   "execution_count": null,
   "metadata": {},
   "outputs": [],
   "source": [
    "csv_data = solver.get_csv_format_data(generator, class_indices, \n",
    "                                      topk_indices=topk_indices)\n",
    "solver.write_into_csv(csv_data, 'results.csv')"
   ]
  }
 ],
 "metadata": {
  "kernelspec": {
   "display_name": "Python 3",
   "language": "python",
   "name": "python3"
  },
  "language_info": {
   "codemirror_mode": {
    "name": "ipython",
    "version": 3
   },
   "file_extension": ".py",
   "mimetype": "text/x-python",
   "name": "python",
   "nbconvert_exporter": "python",
   "pygments_lexer": "ipython3",
   "version": "3.6.4"
  }
 },
 "nbformat": 4,
 "nbformat_minor": 1
}
