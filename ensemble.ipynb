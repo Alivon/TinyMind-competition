{
 "cells": [
  {
   "cell_type": "code",
   "execution_count": null,
   "metadata": {},
   "outputs": [],
   "source": [
    "from recognition import solver"
   ]
  },
  {
   "cell_type": "markdown",
   "metadata": {},
   "source": [
    "# Get all models' information"
   ]
  },
  {
   "cell_type": "code",
   "execution_count": null,
   "metadata": {},
   "outputs": [],
   "source": [
    "models_list = [\n",
    "    # (model_path, batch_size, (image_size, image_size), color_mode)\n",
    "]"
   ]
  },
  {
   "cell_type": "markdown",
   "metadata": {},
   "source": [
    "# Evaluate the performance on the validation set"
   ]
  },
  {
   "cell_type": "code",
   "execution_count": null,
   "metadata": {},
   "outputs": [],
   "source": [
    "valid_generators, valid_predictions = solver.models_ensemble(models_list, 'dataset/validation')"
   ]
  },
  {
   "cell_type": "code",
   "execution_count": null,
   "metadata": {},
   "outputs": [],
   "source": [
    "print('Validation accuracy for each model:')\n",
    "for model_info, generator, prediction in zip(models_list, generators, predictions):\n",
    "    print(model_info)\n",
    "    for k in {1, 5}:\n",
    "        topk_indices = solver.get_topk_indices(generator, prediction, k=k)\n",
    "        correct_number, total_number = solver.evaluate_topk_accuracy(generator, \n",
    "                                                                     topk_indices=topk_indices, \n",
    "                                                                     k=k)\n",
    "\n",
    "print('Validation accuracy with model ensemble: ')\n",
    "for k in {1, 5}:\n",
    "    topk_indices = solver.predictions_ensemble(generators, predictions, algorithm='add', k=k)\n",
    "    correct_number, total_number = solver.evaluate_topk_accuracy(generators[0], \n",
    "                                                                 topk_indices=topk_indices, \n",
    "                                                                 k=k)"
   ]
  },
  {
   "cell_type": "markdown",
   "metadata": {},
   "source": [
    "# Test set"
   ]
  },
  {
   "cell_type": "code",
   "execution_count": null,
   "metadata": {},
   "outputs": [],
   "source": [
    "# Get the class_indices\n",
    "class_indices = solver.get_class_indices('class_indices.csv')\n",
    "print(class_indices)"
   ]
  },
  {
   "cell_type": "code",
   "execution_count": null,
   "metadata": {},
   "outputs": [],
   "source": [
    "# Get the top-k indices\n",
    "test_generators, test_predictions = solver.models_ensemble(models_list, \n",
    "                                                           'dataset/test')\n",
    "topk_indices = solver.predictions_ensemble(test_generators, \n",
    "                                           test_predictions, \n",
    "                                           algorithm='add', \n",
    "                                           k=k)"
   ]
  },
  {
   "cell_type": "code",
   "execution_count": null,
   "metadata": {},
   "outputs": [],
   "source": [
    "# Write answer into a csv file\n",
    "csv_data = solver.get_csv_format_data(test_generators[0], class_indices, \n",
    "                                      topk_indices=topk_indices)\n",
    "solver.write_into_csv(csv_data, 'results.csv')"
   ]
  }
 ],
 "metadata": {
  "kernelspec": {
   "display_name": "Python 3",
   "language": "python",
   "name": "python3"
  },
  "language_info": {
   "codemirror_mode": {
    "name": "ipython",
    "version": 3
   },
   "file_extension": ".py",
   "mimetype": "text/x-python",
   "name": "python",
   "nbconvert_exporter": "python",
   "pygments_lexer": "ipython3",
   "version": "3.6.4"
  }
 },
 "nbformat": 4,
 "nbformat_minor": 1
}
