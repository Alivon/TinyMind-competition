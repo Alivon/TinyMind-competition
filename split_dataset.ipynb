{
 "cells": [
  {
   "cell_type": "markdown",
   "metadata": {},
   "source": [
    "# Split the dataset."
   ]
  },
  {
   "cell_type": "code",
   "execution_count": null,
   "metadata": {},
   "outputs": [],
   "source": [
    "from recognition import split_dataset as sd"
   ]
  },
  {
   "cell_type": "code",
   "execution_count": null,
   "metadata": {},
   "outputs": [],
   "source": [
    "training_samples, validation_samples = sd.split_dataset_into_training_and_test_sets(\n",
    "    'train', 'dataset/train', 'dataset/validation', test_size=0.1)\n",
    "\n",
    "def gcd(a, b):\n",
    "    \"\"\" calculate the GCD of a and b\n",
    "    \"\"\"\n",
    "    if b == 0:\n",
    "        return a\n",
    "    else:\n",
    "        return gcd(b, a % b)\n",
    "\n",
    "print('The GCD of the training samples and validation samples: {}'.format(\n",
    "    gcd(training_samples, validation_samples)))"
   ]
  }
 ],
 "metadata": {
  "kernelspec": {
   "display_name": "Python 3",
   "language": "python",
   "name": "python3"
  },
  "language_info": {
   "codemirror_mode": {
    "name": "ipython",
    "version": 3
   },
   "file_extension": ".py",
   "mimetype": "text/x-python",
   "name": "python",
   "nbconvert_exporter": "python",
   "pygments_lexer": "ipython3",
   "version": "3.6.4"
  }
 },
 "nbformat": 4,
 "nbformat_minor": 1
}
